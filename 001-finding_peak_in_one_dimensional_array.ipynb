{
 "cells": [
  {
   "cell_type": "markdown",
   "metadata": {},
   "source": [
    "An array element is peak if it is NOT smaller than its neighbors. \n",
    "\n",
    "For corner elements, we need to consider only one neighbor. \n",
    "\n",
    "Ex-: array {5, 10, 20, 15}, 20 is the only peak element. \n",
    "    \n",
    "Ex-: array {10, 20, 15, 2, 23, 90, 67}, there are two peak elements: 20 and 90.\n",
    "        \n",
    "Note-: that we need to return any one peak element.\n"
   ]
  },
  {
   "cell_type": "markdown",
   "metadata": {},
   "source": [
    "Following corner cases give better idea about the problem.\n",
    "\n",
    "1) If input array is sorted in strictly increasing order, the last element is \n",
    "   always a peak element. \n",
    "  Eg-: 50 is peak element in {10, 20, 30, 40, 50}.\n",
    "  \n",
    "2) If input array is sorted in strictly decreasing order, \n",
    "   the first element is always a peak element. \n",
    "  Eg-:100 is the peak element in {100, 80, 60, 50, 20}.\n",
    "    \n",
    "3) If all elements of input array are same, every element is a peak element."
   ]
  },
  {
   "cell_type": "markdown",
   "metadata": {},
   "source": [
    "Time complexity - o(n)"
   ]
  },
  {
   "cell_type": "markdown",
   "metadata": {},
   "source": [
    "Can we find a peak element in worst time complexity better than O(n)?\n",
    "We can use Divide and Conquer to find a peak in O(Logn) time. The idea is Binary Search based, we compare middle element with its neighbors. If middle element is not smaller than any of its neighbors, then we return it. If the middle element is smaller than the its left neighbor, then there is always a peak in left half (Why? take few examples). If the middle element is smaller than the its right neighbor, then there is always a peak in right half (due to same reason as left half)."
   ]
  },
  {
   "cell_type": "code",
   "execution_count": 1,
   "metadata": {
    "collapsed": true
   },
   "outputs": [],
   "source": [
    "# A python 3 program to find a peak  \n",
    "# element element using divide and conquer \n",
    "  \n",
    "# A binary search based function  \n",
    "# that returns index of a peak element \n",
    "def findPeakUtil(arr, low, high, n): \n",
    "      \n",
    "    # Find index of middle element \n",
    "    # (low + high)/2  \n",
    "    mid = int(low + (high - low)/2) \n",
    "    \n",
    "      \n",
    "    # Compare middle element with its  \n",
    "    # neighbours (if neighbours exist) \n",
    "    if ((mid == 0 or arr[mid - 1] <= arr[mid]) and \n",
    "       (mid == n - 1 or arr[mid + 1] <= arr[mid])): \n",
    "        return mid \n",
    "  \n",
    "  \n",
    "    # If middle element is not peak and  \n",
    "    # its left neighbour is greater  \n",
    "    # than it, then left half must  \n",
    "    # have a peak element \n",
    "    elif (mid > 0 and arr[mid - 1] > arr[mid]): \n",
    "        return findPeakUtil(arr, low, (mid - 1), n) \n",
    "  \n",
    "    # If middle element is not peak and \n",
    "    # its right neighbour is greater \n",
    "    # than it, then right half must  \n",
    "    # have a peak element \n",
    "    else: \n",
    "        return findPeakUtil(arr, (mid + 1), high, n) \n",
    "  \n",
    "  \n",
    "# A wrapper over recursive  \n",
    "# function findPeakUtil() \n",
    "def findPeak(arr, n): \n",
    "  \n",
    "    return findPeakUtil(arr, 0, n - 1, n) "
   ]
  },
  {
   "cell_type": "code",
   "execution_count": 2,
   "metadata": {
    "collapsed": false
   },
   "outputs": [
    {
     "name": "stdout",
     "output_type": "stream",
     "text": [
      "Index of a peak point is 2\n"
     ]
    }
   ],
   "source": [
    "# Driver code \n",
    "arr = [1, 3, 20, 4, 1, 0] \n",
    "n = len(arr) \n",
    "print(\"Index of a peak point is\", findPeak(arr, n)) "
   ]
  }
 ],
 "metadata": {
  "kernelspec": {
   "display_name": "Python 3",
   "language": "python",
   "name": "python3"
  },
  "language_info": {
   "codemirror_mode": {
    "name": "ipython",
    "version": 3
   },
   "file_extension": ".py",
   "mimetype": "text/x-python",
   "name": "python",
   "nbconvert_exporter": "python",
   "pygments_lexer": "ipython3",
   "version": "3.6.0"
  }
 },
 "nbformat": 4,
 "nbformat_minor": 2
}
